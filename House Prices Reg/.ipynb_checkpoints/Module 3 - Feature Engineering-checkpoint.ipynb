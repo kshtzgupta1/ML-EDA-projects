{
 "cells": [
  {
   "cell_type": "markdown",
   "metadata": {},
   "source": [
    "<h1 style=\"font-size:42px; text-align:center; margin-bottom:30px;\"><span style=\"color:SteelBlue\">Module 3:</span> Feature Engineering</h1>\n",
    "<hr>\n",
    "\n",
    "After cleaning the dataset, the next step is to engineer features that can help our predictive models. \n",
    "\n",
    "<br>\n",
    "> *<span style=\"color:tomato;font-weight:bold\">Feature engineering</span> is the practice of creating new features from existing ones.*\n",
    "* The engineered features are often more specific or isolate key information.\n",
    "\n",
    "<br>\n",
    "Often, feature engineering is one of the most valuable tasks a data scientist can do to improve model effectiveness.\n",
    "\n",
    "This is not an exhaustive list of all types of feature engineering. There are  limitless possibilities for this step, and it's a skill that will naturally improve as you gain more experience and domain expertise. However, you can use this checklist as a reliable starting point!\n",
    "\n",
    "\n",
    "\n",
    "<br><hr id=\"toc\">\n",
    "\n",
    "### In this module...\n",
    "\n",
    "We'll load our cleaned dataset and then cover these steps: \n",
    "\n",
    "1. [Start with domain knowledge](#domain)\n",
    "2. [Create interaction features](#interaction)\n",
    "3. [Group sparse classes](#group)\n",
    "4. [Encode dummy variables](#dummy)\n",
    "5. [Remove unused or redundant features](#remove)\n",
    "\n",
    "Finally, we'll save the augmented dataframe (analytical base table) to a new file so we can use it for modeling.\n",
    "\n",
    "<br><hr>"
   ]
  },
  {
   "cell_type": "markdown",
   "metadata": {},
   "source": [
    "### First, let's import libraries and load the cleaned dataset.\n",
    "\n",
    "In general, it's good practice to keep all of your library imports at the top of your notebook or program.\n",
    "\n",
    "Before we do anything else, let's import the <code style=\"color:steelblue\">print()</code> function from the future to ensure our code is compatible with Python 3."
   ]
  },
  {
   "cell_type": "code",
   "execution_count": null,
   "metadata": {},
   "outputs": [],
   "source": [
    "from __future__ import print_function  # Compatability with Python 3\n",
    "print( 'Print function ready to serve.' )"
   ]
  },
  {
   "cell_type": "markdown",
   "metadata": {},
   "source": [
    "Next, let's import the libraries we'll need for this module."
   ]
  },
  {
   "cell_type": "code",
   "execution_count": null,
   "metadata": {},
   "outputs": [],
   "source": [
    "# NumPy for numerical computing\n",
    "import numpy as np\n",
    "\n",
    "# Pandas for DataFrames\n",
    "import pandas as pd\n",
    "pd.set_option('display.max_columns', 100)\n",
    "pd.options.mode.chained_assignment = None  # default='warn'\n",
    "\n",
    "# Matplotlib for visualization\n",
    "from matplotlib import pyplot as plt\n",
    "# display plots in the notebook\n",
    "%matplotlib inline \n",
    "\n",
    "# Seaborn for easier visualization\n",
    "import seaborn as sns"
   ]
  },
  {
   "cell_type": "markdown",
   "metadata": {},
   "source": [
    "Next, let's import the **cleaned** dataset that we created in the previous module."
   ]
  },
  {
   "cell_type": "code",
   "execution_count": null,
   "metadata": {},
   "outputs": [],
   "source": [
    "# Load cleaned dataset from Module 2\n",
    "df = pd.read_csv('cleaned_df.csv')"
   ]
  },
  {
   "cell_type": "markdown",
   "metadata": {},
   "source": [
    "Now, let's display the first 5 rows from the dataset, just so we can have all of the existing features in front of us."
   ]
  },
  {
   "cell_type": "code",
   "execution_count": null,
   "metadata": {},
   "outputs": [],
   "source": [
    "df.head()"
   ]
  },
  {
   "cell_type": "markdown",
   "metadata": {},
   "source": [
    "<br id=\"domain\">\n",
    "# 1. Start with domain knowledge\n",
    "\n",
    "You can often engineer informative features by tapping into your (or others') expertise about the domain.\n",
    "\n",
    "<br>\n",
    "Create an indicator variable to flag properties with 2 beds and 2 baths and name it <code style=\"color:steelblue\">'two_and_two'</code>."
   ]
  },
  {
   "cell_type": "code",
   "execution_count": null,
   "metadata": {},
   "outputs": [],
   "source": [
    "# Create indicator variable for properties with 2 beds and 2 baths\n"
   ]
  },
  {
   "cell_type": "markdown",
   "metadata": {},
   "source": [
    "Display the proportion of our observations that have 2 beds and 2 baths."
   ]
  },
  {
   "cell_type": "code",
   "execution_count": null,
   "metadata": {},
   "outputs": [],
   "source": [
    "# Display percent of rows where two_and_two == 1\n"
   ]
  },
  {
   "cell_type": "markdown",
   "metadata": {},
   "source": [
    "Next, let's engineer an indicator feature for the housing market recession.\n"
   ]
  },
  {
   "cell_type": "markdown",
   "metadata": {},
   "source": [
    "<br><hr style=\"border-color:royalblue;background-color:royalblue;height:1px;\">\n",
    "## <span style=\"color:RoyalBlue\">Exercise 3.1</span>\n",
    "\n",
    "**Create a new feature called <code style=\"color:steelblue\">'during_recession'</code> to indicate if a transaction falls between 2010 and 2013.**\n",
    "1. Create a boolean mask to check if <code style=\"color:steelblue\">tx_year >= 2010</code>\n",
    "2. Create a boolean mask to check if <code style=\"color:steelblue\">tx_year <= 2013</code>\n",
    "3. Combine the two masks with an <code style=\"color:steelblue\">&</code> operator\n",
    "4. Convert the resulting series to type <code style=\"color:steelblue\">int</code> to map from <code style=\"color:crimson\">True/False</code> to <code style=\"color:crimson\">1/0</code>"
   ]
  },
  {
   "cell_type": "code",
   "execution_count": null,
   "metadata": {
    "collapsed": true
   },
   "outputs": [],
   "source": [
    "# Create indicator feature for transactions between 2010 and 2013, inclusive\n"
   ]
  },
  {
   "cell_type": "markdown",
   "metadata": {},
   "source": [
    "**What proportion of transactions in our dataset were during the recession?**"
   ]
  },
  {
   "cell_type": "code",
   "execution_count": null,
   "metadata": {},
   "outputs": [],
   "source": [
    "# Print percent of transactions where during_recession == 1\n"
   ]
  },
  {
   "cell_type": "markdown",
   "metadata": {},
   "source": [
    "In the case where we're checking to see if a value falls between two numbers, there's a shortcut:\n",
    "\n",
    "<pre style=\"color:steelblue\">df.tx_year<strong>.between(2010, 2013)</strong>.astype(int)</pre>\n",
    "\n",
    "This creates an indicator feature that should be equivalent to the one you created earlier from combining two boolean masks.\n",
    "\n",
    "<br>\n",
    "**Confirm that the \"between\" indicator feature is equivalent to the one you created earlier.**\n",
    "* Set the earlier feature to a variable named <code style=\"color:steelblue\">a</code>\n",
    "* Set this new feature to a variable named <code style=\"color:steelblue\">b</code>\n",
    "* Confirm they are equivalent with <code style=\"color:steelblue\">all(a == b)</code>, which checks to see if every element in <code style=\"color:steelblue\">a</code> is equal to the corresponding element in <code style=\"color:steelblue\">b</code>"
   ]
  },
  {
   "cell_type": "code",
   "execution_count": null,
   "metadata": {},
   "outputs": [],
   "source": [
    "# Set variable a as the earlier indicator variable (combining two masks)\n",
    "\n",
    "\n",
    "# Set variable b as the new indicator variable (using \"between\")\n",
    "\n",
    "\n",
    "# Are a and b equivalent?\n"
   ]
  },
  {
   "cell_type": "markdown",
   "metadata": {},
   "source": [
    "One useful tip is that you can overwrite columns in Pandas DataFrames.\n",
    "* You don't need to reload the DataFrame before doing so.\n",
    "* Since these two statements are equivalent, it doesn't matter which we use.\n",
    "\n",
    "<br>\n",
    "**Overwrite the <code style=\"color:steelblue\">'during_recession'</code> feature you created at the beginning of the exercise with the new indicator feature created by <code style=\"color:steelblue\">.between()</code>.**"
   ]
  },
  {
   "cell_type": "code",
   "execution_count": null,
   "metadata": {},
   "outputs": [],
   "source": [
    "# Create indicator feature for transactions between 2010 and 2013, inclusive\n"
   ]
  },
  {
   "cell_type": "markdown",
   "metadata": {},
   "source": [
    "<hr style=\"border-color:royalblue;background-color:royalblue;height:1px;\">\n",
    "<div style=\"text-align:center; margin: 40px 0 40px 0;\">\n",
    "[**Back to Contents**](#toc)\n",
    "</div>"
   ]
  },
  {
   "cell_type": "markdown",
   "metadata": {},
   "source": [
    "<br id=\"interaction\">\n",
    "# 2. Create interaction features\n",
    "\n",
    "Next, we have a few specific **heuristics** that can help spark more ideas.\n",
    "\n",
    "<br>\n",
    "Create <code style=\"color:steelblue\">'property_age'</code> feature for the age of the property at the time of the transaction."
   ]
  },
  {
   "cell_type": "code",
   "execution_count": null,
   "metadata": {},
   "outputs": [],
   "source": [
    "# Create a property age feature\n"
   ]
  },
  {
   "cell_type": "markdown",
   "metadata": {},
   "source": [
    "Do a quick sanity check. Print the minimum <code style=\"color:steelblue\">'property_age'</code>."
   ]
  },
  {
   "cell_type": "code",
   "execution_count": null,
   "metadata": {},
   "outputs": [],
   "source": [
    "# Should not be less than 0\n"
   ]
  },
  {
   "cell_type": "markdown",
   "metadata": {},
   "source": [
    "Print the number of observations with <code style=\"color:steelblue\">'property_age'</code> less than 0."
   ]
  },
  {
   "cell_type": "code",
   "execution_count": null,
   "metadata": {},
   "outputs": [],
   "source": [
    "# Number of observations with 'property_age' < 0\n"
   ]
  },
  {
   "cell_type": "markdown",
   "metadata": {},
   "source": [
    "<br><hr style=\"border-color:royalblue;background-color:royalblue;height:1px;\">\n",
    "\n",
    "## <span style=\"color:RoyalBlue\">Exercise 3.2<span>\n",
    "\n",
    "**Remove observations where <code style=\"color:steelblue\">'property_age'</code> is less than 0.**\n",
    "* **Tip:** You can use a boolean mask to keep only observations where <code style=\"color:steelblue\">'property_age'</code> is at least 0.\n",
    "* Overwrite the existing <code style=\"color:steelblue\">df</code>.\n",
    "* Print the length of the new DataFrame."
   ]
  },
  {
   "cell_type": "code",
   "execution_count": null,
   "metadata": {},
   "outputs": [],
   "source": [
    "# Remove rows where property_age is less than 0\n",
    "\n",
    "\n",
    "# Print number of rows in remaining dataframe\n"
   ]
  },
  {
   "cell_type": "markdown",
   "metadata": {},
   "source": [
    "Now, let's add another interaction feature. How about the number of quality schools nearby?\n",
    "\n",
    "* Well, we do know the number of schools nearby (<code style=\"color:steelblue\">'num_schools'</code>) \n",
    "* We also have their median quality score (<code style=\"color:steelblue\">'median_schools'</code>)\n",
    "* But what if it's the **interaction** of those two factors that's really important? \n",
    "* In other words, what if it's good to have many school options, but only if they are good?\n",
    "\n",
    "We can represent this with an interaction feature.\n",
    "\n",
    "<br>\n",
    "**Create a new feature called <code style=\"color:steelblue\">'school_score'</code> that is the product of <code style=\"color:steelblue\">'num_schools'</code> and <code style=\"color:steelblue\">'median_schools'</code>.**"
   ]
  },
  {
   "cell_type": "code",
   "execution_count": null,
   "metadata": {},
   "outputs": [],
   "source": [
    "# Create a school score feature that num_schools * median_school\n"
   ]
  },
  {
   "cell_type": "markdown",
   "metadata": {},
   "source": [
    "**Finally, display the median <code style=\"color:steelblue\">'school_score'</code> from the dataset.**"
   ]
  },
  {
   "cell_type": "code",
   "execution_count": null,
   "metadata": {},
   "outputs": [],
   "source": [
    "# Display median school score\n"
   ]
  },
  {
   "cell_type": "markdown",
   "metadata": {},
   "source": [
    "<hr style=\"border-color:royalblue;background-color:royalblue;height:1px;\">\n",
    "<div style=\"text-align:center; margin: 40px 0 40px 0;\">\n",
    "[**Back to Contents**](#toc)\n",
    "</div>"
   ]
  },
  {
   "cell_type": "markdown",
   "metadata": {},
   "source": [
    "<br id=\"group\">\n",
    "# 3. Group sparse classes\n",
    "\n",
    "The next heuristic we'll consider is grouping sparse classes in our categorical features. \n",
    "\n",
    "<br>\n",
    "Let's begin by plotting the bar plots for <code style=\"color:steelblue\">'exterior_walls'</code> again."
   ]
  },
  {
   "cell_type": "code",
   "execution_count": null,
   "metadata": {},
   "outputs": [],
   "source": [
    "# Bar plot for exterior_walls\n"
   ]
  },
  {
   "cell_type": "markdown",
   "metadata": {},
   "source": [
    "Group <code style=\"color:crimson\">'Wood Siding'</code>, <code style=\"color:crimson\">'Wood Shingle'</code>, and <code style=\"color:crimson\">'Wood'</code> together. Label all of them as <code style=\"color:crimson\">'Wood'</code>."
   ]
  },
  {
   "cell_type": "code",
   "execution_count": null,
   "metadata": {
    "collapsed": true
   },
   "outputs": [],
   "source": [
    "# Group 'Wood Siding' and 'Wood Shingle' with 'Wood'\n"
   ]
  },
  {
   "cell_type": "markdown",
   "metadata": {},
   "source": [
    "Next, let's label <code style=\"color:crimson\">'Stucco'</code>, <code style=\"color:crimson\">'Other'</code>, <code style=\"color:crimson\">'Asbestos shingle'</code>, <code style=\"color:crimson\">'Concrete Block'</code>, and <code style=\"color:crimson\">'Masonry'</code> as <code style=\"color:crimson;\">'Other'</code>:"
   ]
  },
  {
   "cell_type": "code",
   "execution_count": null,
   "metadata": {},
   "outputs": [],
   "source": [
    "# List of classes to group\n",
    "\n",
    "\n",
    "# Group other classes into 'Other'\n"
   ]
  },
  {
   "cell_type": "markdown",
   "metadata": {},
   "source": [
    "Finally, now that we've grouped together sparse classes, let's look at the bar plot for exterior walls again."
   ]
  },
  {
   "cell_type": "code",
   "execution_count": null,
   "metadata": {},
   "outputs": [],
   "source": [
    "# Bar plot for exterior_walls\n"
   ]
  },
  {
   "cell_type": "markdown",
   "metadata": {},
   "source": [
    "<br><hr style=\"border-color:royalblue;background-color:royalblue;height:1px;\">\n",
    "## <span style=\"color:RoyalBlue\">Exercise 3.3</span>\n",
    "\n",
    "**First, display the bar plot for <code style=\"color:steelblue\">'roof'</code>.**"
   ]
  },
  {
   "cell_type": "code",
   "execution_count": null,
   "metadata": {},
   "outputs": [],
   "source": [
    "# Bar plot for roof\n"
   ]
  },
  {
   "cell_type": "markdown",
   "metadata": {},
   "source": [
    "As with the <code style=\"color:steelblue\">'exterior_walls'</code> feature above, we can start by grouping classes that are quite similar. \n",
    "\n",
    "<br>\n",
    "**Group <code style=\"color:crimson\">'Composition'</code> and <code style=\"color:crimson\">'Wood Shake/ Shingles'</code> into the <code style=\"color:crimson\">'Composition Shingle'</code> class.**\n",
    "* Remember to perform the replacing with <code style=\"color:steelblue\">inplace=True</code>"
   ]
  },
  {
   "cell_type": "code",
   "execution_count": null,
   "metadata": {
    "collapsed": true
   },
   "outputs": [],
   "source": [
    "# Group 'Composition' and 'Wood Shake/ Shingles' into 'Composition Shingle'\n"
   ]
  },
  {
   "cell_type": "markdown",
   "metadata": {},
   "source": [
    "Next, let's group remaining sparse classes into a single <code style=\"color:crimson\">'Other'</code> class.\n",
    "\n",
    "<br>\n",
    "**Label <code style=\"color:crimson\">'Other'</code>, <code style=\"color:crimson\">'Gravel/Rock'</code>, <code style=\"color:crimson\">'Roll Composition'</code>, <code style=\"color:crimson\">'Slate'</code>, <code style=\"color:crimson\">'Built-up'</code>, <code style=\"color:crimson\">'Asbestos'</code>, and <code style=\"color:crimson\">'Metal'</code> as <code style=\"color:crimson\">'Other'</code>.**"
   ]
  },
  {
   "cell_type": "code",
   "execution_count": null,
   "metadata": {
    "collapsed": true
   },
   "outputs": [],
   "source": [
    "# List of classes to group\n",
    "\n",
    "\n",
    "# Group other classes into 'Other'\n"
   ]
  },
  {
   "cell_type": "markdown",
   "metadata": {},
   "source": [
    "**Finally, display bar plot again.**"
   ]
  },
  {
   "cell_type": "code",
   "execution_count": null,
   "metadata": {},
   "outputs": [],
   "source": [
    "# Bar plot for roof\n"
   ]
  },
  {
   "cell_type": "markdown",
   "metadata": {},
   "source": [
    "Much nicer!\n",
    "\n",
    "<hr style=\"border-color:royalblue;background-color:royalblue;height:1px;\">\n",
    "\n",
    "<div style=\"text-align:center; margin: 40px 0 40px 0;\">\n",
    "[**Back to Contents**](#toc)\n",
    "</div>\n",
    "\n"
   ]
  },
  {
   "cell_type": "markdown",
   "metadata": {},
   "source": [
    "<br id=\"dummy\">\n",
    "# 4. Encode dummy variables\n",
    "\n",
    "Python machine learning algorithms cannot handle categorical features directly. \n",
    "\n",
    "<br>\n",
    "Create a new dataframe with dummy variables for for our categorical features."
   ]
  },
  {
   "cell_type": "code",
   "execution_count": null,
   "metadata": {},
   "outputs": [],
   "source": [
    "# Create new dataframe with dummy features\n"
   ]
  },
  {
   "cell_type": "markdown",
   "metadata": {},
   "source": [
    "Display the first 5 rows of your dataframe to see these new features."
   ]
  },
  {
   "cell_type": "code",
   "execution_count": null,
   "metadata": {},
   "outputs": [],
   "source": [
    "# First 5 rows of dataframe\n"
   ]
  },
  {
   "cell_type": "markdown",
   "metadata": {},
   "source": [
    "<div style=\"text-align:center; margin: 40px 0 40px 0;\">\n",
    "[**Back to Contents**](#toc)\n",
    "</div>"
   ]
  },
  {
   "cell_type": "markdown",
   "metadata": {},
   "source": [
    "<br id=\"remove\">\n",
    "# 5. Remove unused or redundant features"
   ]
  },
  {
   "cell_type": "markdown",
   "metadata": {},
   "source": [
    "Finally, let's remove unused for redundant features from our dataset.\n",
    "\n",
    "<br>\n",
    "Drop <code style=\"color:steelblue\">'tx_year'</code> and <code style=\"color:steelblue\">'year_built'</code> from your dataset."
   ]
  },
  {
   "cell_type": "code",
   "execution_count": null,
   "metadata": {},
   "outputs": [],
   "source": [
    "# Drop 'tx_year' and 'year_built' from the dataset\n"
   ]
  },
  {
   "cell_type": "markdown",
   "metadata": {
    "collapsed": true
   },
   "source": [
    "Save the analytical base table."
   ]
  },
  {
   "cell_type": "code",
   "execution_count": null,
   "metadata": {
    "collapsed": true
   },
   "outputs": [],
   "source": [
    "# Save analytical base table\n"
   ]
  },
  {
   "cell_type": "markdown",
   "metadata": {},
   "source": [
    "### Final tip\n",
    "\n",
    "Not all of the features you engineer need to be winners. \n",
    "* In fact, you'll often find that many of them do not add much value to your model. \n",
    "* That's OK. \n",
    "* One highly predictive feature makes up for 10 duds.\n",
    "\n",
    "The key is choosing machine learning algorithms that can effectively select the best features among many options (**built-in feature selection**). This will allow you to avoid overfitting your model despite providing many input features. We'll cover this in the next module!\n",
    "\n",
    "\n",
    "<div style=\"text-align:center; margin: 40px 0 40px 0;\">\n",
    "[**Back to Contents**](#toc)\n",
    "</div>"
   ]
  },
  {
   "cell_type": "markdown",
   "metadata": {},
   "source": [
    "<br>\n",
    "## Next Steps\n",
    "\n",
    "Congratulations for making through Project 2's Feature Engineering module!\n",
    "\n",
    "As a reminder, here are a few things you did in this module:\n",
    "* You made several indicator features from domain knowledge.\n",
    "* You created the interaction feature <code style=\"color:steelblue\">'property_age'</code>.\n",
    "* You grouped sparse classes in the <code style=\"color:steelblue\">'exterior_walls'</code> and <code style=\"color:steelblue\">'roof'</code> features.\n",
    "* And you encoded dummy variables and saved the final analytical base table.\n",
    "\n",
    "In the next module, <span style=\"color:royalblue\">Module 4: Regression Algorithms</span>, we'll walk through intuition behind 5 of the most popular (and effective) machine learning algorithms for regression tasks.\n",
    "\n",
    "<div style=\"text-align:center; margin: 40px 0 40px 0;\">\n",
    "[**Back to Contents**](#toc)\n",
    "</div>"
   ]
  }
 ],
 "metadata": {
  "anaconda-cloud": {},
  "kernelspec": {
   "display_name": "Python [conda env:anaconda3]",
   "language": "python",
   "name": "conda-env-anaconda3-py"
  },
  "language_info": {
   "codemirror_mode": {
    "name": "ipython",
    "version": 3
   },
   "file_extension": ".py",
   "mimetype": "text/x-python",
   "name": "python",
   "nbconvert_exporter": "python",
   "pygments_lexer": "ipython3",
   "version": "3.6.4"
  }
 },
 "nbformat": 4,
 "nbformat_minor": 1
}
